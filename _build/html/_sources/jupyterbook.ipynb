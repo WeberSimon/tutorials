{
 "cells": [
  {
   "cell_type": "markdown",
   "metadata": {},
   "source": [
    "# Creating a Jupyter book"
   ]
  },
  {
   "cell_type": "markdown",
   "metadata": {},
   "source": [
    "In this section, I cover briefly how to create (and publish) a jupyter book."
   ]
  },
  {
   "cell_type": "markdown",
   "metadata": {},
   "source": [
    "## Installing Python\n",
    "The easiest way to install Python is to download Anaconda or Miniconda. \n",
    "\n",
    "## Switching to Python 3.7\n",
    "Unfortunately, there are issues when building a jupyter book when using more recent versions of python. To avoid this, we will use an older version of Python (python 3.7). To easily switch between versions of python, we will create a specific environment which will contain python 3.7. To do this, we open the Anaconda Prompt and type\n",
    "```\n",
    "conda create --name python37 python=3.7\n",
    "```\n",
    "where \"python37\" is the name we give to that environment (could be anything). \n",
    "To activate this envrionment, we open the Anaconda Prompt and type\n",
    "``` \n",
    "activate python37\n",
    "```\n",
    "and to check the version of python being used\n",
    "```\n",
    "python -V\n",
    "```\n",
    "\n",
    "## Creating a GitHub repository for the book\n",
    "1. Create an account on GitHub\n",
    "2. Create a public repository for the book, for example \"mynewbook\"\n",
    "3. Install GitHub desktop (useful to sync changes made to the book) and clone the book repository.\n",
    "\n",
    "## Create the book\n",
    "1. Open Anaconda Prompt and activate an environment containing python 3.7\n",
    "2. Install Jupyter book\n",
    "```\n",
    "pip install -U jupyter-book\n",
    "```\n",
    "3. Create the book \n",
    "``` \n",
    "jupyter-book create mynewbook/\n",
    "```\n",
    "This will create an example book with a basic structure that we can then edit to our liking. \n",
    "\n",
    "4. Locate the book files that have just been created and move them to the GitHub repository. We can now edit these files (that is, write the book) and push any changes to the main branch of our Github repository.\n",
    "\n"
   ]
  }
 ],
 "metadata": {
  "language_info": {
   "name": "python"
  },
  "orig_nbformat": 4
 },
 "nbformat": 4,
 "nbformat_minor": 2
}
